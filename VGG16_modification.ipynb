{
  "nbformat": 4,
  "nbformat_minor": 0,
  "metadata": {
    "colab": {
      "provenance": [],
      "gpuType": "V100"
    },
    "kernelspec": {
      "name": "python3",
      "display_name": "Python 3"
    },
    "language_info": {
      "name": "python"
    },
    "accelerator": "GPU"
  },
  "cells": [
    {
      "cell_type": "code",
      "source": [
        "from google.colab import drive\n",
        "drive.mount('/content/drive')"
      ],
      "metadata": {
        "colab": {
          "base_uri": "https://localhost:8080/"
        },
        "id": "mugNg6Up6t3q",
        "outputId": "8692fb6d-3424-4d0e-80f6-cff430f0e25f"
      },
      "execution_count": 1,
      "outputs": [
        {
          "output_type": "stream",
          "name": "stdout",
          "text": [
            "Mounted at /content/drive\n"
          ]
        }
      ]
    },
    {
      "cell_type": "code",
      "execution_count": 2,
      "metadata": {
        "id": "0kEgKEJ-6U03"
      },
      "outputs": [],
      "source": [
        "import tensorflow as tf\n",
        "from tensorflow.keras.models import Sequential\n",
        "from tensorflow.keras.layers import Conv2D, MaxPooling2D, Dense, Flatten, Dropout, BatchNormalization\n",
        "\n",
        "class_num = 12\n",
        "\n",
        "VGG16_model = Sequential()\n",
        "#block1\n",
        "\n",
        "VGG16_model.add(Conv2D(filters=64, kernel_size=(3, 3), activation = \"relu\", input_shape = (224, 224 ,3),padding = \"same\"))\n",
        "VGG16_model.add(BatchNormalization())\n",
        "VGG16_model.add(Conv2D(filters=64, kernel_size=(3, 3), activation = \"relu\" ,padding = \"same\"))\n",
        "VGG16_model.add(BatchNormalization())\n",
        "VGG16_model.add(MaxPooling2D(pool_size = (2, 2), strides = (2, 2)))\n",
        "\n",
        "#block2 112*112*128\n",
        "\n",
        "VGG16_model.add(Conv2D(filters=128, kernel_size=(3, 3), activation = \"relu\" ,padding = \"same\"))\n",
        "VGG16_model.add(BatchNormalization())\n",
        "VGG16_model.add(Conv2D(filters=128, kernel_size=(3, 3), activation = \"relu\" ,padding = \"same\"))\n",
        "VGG16_model.add(BatchNormalization())\n",
        "VGG16_model.add(MaxPooling2D(pool_size = (2, 2), strides = (2, 2)))\n",
        "\n",
        "\n",
        "#block3 56*56*256\n",
        "\n",
        "VGG16_model.add(Conv2D(filters=256, kernel_size=(3, 3), activation = \"relu\" ,padding = \"same\"))\n",
        "VGG16_model.add(BatchNormalization())\n",
        "VGG16_model.add(Conv2D(filters=256, kernel_size=(3, 3), activation = \"relu\" ,padding = \"same\"))\n",
        "VGG16_model.add(BatchNormalization())\n",
        "VGG16_model.add(Conv2D(filters=256, kernel_size=(3, 3), activation = \"relu\" ,padding = \"same\"))\n",
        "VGG16_model.add(BatchNormalization())\n",
        "VGG16_model.add(MaxPooling2D(pool_size = (2, 2), strides = (2, 2)))\n",
        "\n",
        "\n",
        "#block4 28*28*512\n",
        "\n",
        "VGG16_model.add(Conv2D(filters=512, kernel_size=(3, 3), activation = \"relu\" ,padding = \"same\"))\n",
        "VGG16_model.add(BatchNormalization())\n",
        "VGG16_model.add(Conv2D(filters=512, kernel_size=(3, 3), activation = \"relu\" ,padding = \"same\"))\n",
        "VGG16_model.add(BatchNormalization())\n",
        "VGG16_model.add(Conv2D(filters=512, kernel_size=(3, 3), activation = \"relu\" ,padding = \"same\"))\n",
        "VGG16_model.add(BatchNormalization())\n",
        "VGG16_model.add(MaxPooling2D(pool_size = (2, 2), strides = (2, 2)))\n",
        "\n",
        "\n",
        "#block5 14*14*512\n",
        "\n",
        "VGG16_model.add(Conv2D(filters=512, kernel_size=(3, 3), activation = \"relu\" ,padding = \"same\"))\n",
        "VGG16_model.add(BatchNormalization())\n",
        "VGG16_model.add(Conv2D(filters=512, kernel_size=(3, 3), activation = \"relu\" ,padding = \"same\"))\n",
        "VGG16_model.add(BatchNormalization())\n",
        "VGG16_model.add(Conv2D(filters=512, kernel_size=(3, 3), activation = \"relu\" ,padding = \"same\"))\n",
        "VGG16_model.add(BatchNormalization())\n",
        "VGG16_model.add(MaxPooling2D(pool_size = (2, 2), strides = (2, 2)))\n",
        "\n",
        "#classifier 7*7*512\n",
        "\n",
        "VGG16_model.add(Flatten())\n",
        "VGG16_model.add(Dense(units = 128, activation = \"relu\"))\n",
        "VGG16_model.add(Dense(units= class_num, activation = \"softmax\"))\n"
      ]
    },
    {
      "cell_type": "code",
      "source": [
        "VGG16_model.summary()"
      ],
      "metadata": {
        "colab": {
          "base_uri": "https://localhost:8080/"
        },
        "id": "jDDpYKZR6xKq",
        "outputId": "1cfbf487-73b7-4a08-df1b-85800ea83d7b"
      },
      "execution_count": 3,
      "outputs": [
        {
          "output_type": "stream",
          "name": "stdout",
          "text": [
            "Model: \"sequential\"\n",
            "_________________________________________________________________\n",
            " Layer (type)                Output Shape              Param #   \n",
            "=================================================================\n",
            " conv2d (Conv2D)             (None, 224, 224, 64)      1792      \n",
            "                                                                 \n",
            " batch_normalization (BatchN  (None, 224, 224, 64)     256       \n",
            " ormalization)                                                   \n",
            "                                                                 \n",
            " conv2d_1 (Conv2D)           (None, 224, 224, 64)      36928     \n",
            "                                                                 \n",
            " batch_normalization_1 (Batc  (None, 224, 224, 64)     256       \n",
            " hNormalization)                                                 \n",
            "                                                                 \n",
            " max_pooling2d (MaxPooling2D  (None, 112, 112, 64)     0         \n",
            " )                                                               \n",
            "                                                                 \n",
            " conv2d_2 (Conv2D)           (None, 112, 112, 128)     73856     \n",
            "                                                                 \n",
            " batch_normalization_2 (Batc  (None, 112, 112, 128)    512       \n",
            " hNormalization)                                                 \n",
            "                                                                 \n",
            " conv2d_3 (Conv2D)           (None, 112, 112, 128)     147584    \n",
            "                                                                 \n",
            " batch_normalization_3 (Batc  (None, 112, 112, 128)    512       \n",
            " hNormalization)                                                 \n",
            "                                                                 \n",
            " max_pooling2d_1 (MaxPooling  (None, 56, 56, 128)      0         \n",
            " 2D)                                                             \n",
            "                                                                 \n",
            " conv2d_4 (Conv2D)           (None, 56, 56, 256)       295168    \n",
            "                                                                 \n",
            " batch_normalization_4 (Batc  (None, 56, 56, 256)      1024      \n",
            " hNormalization)                                                 \n",
            "                                                                 \n",
            " conv2d_5 (Conv2D)           (None, 56, 56, 256)       590080    \n",
            "                                                                 \n",
            " batch_normalization_5 (Batc  (None, 56, 56, 256)      1024      \n",
            " hNormalization)                                                 \n",
            "                                                                 \n",
            " conv2d_6 (Conv2D)           (None, 56, 56, 256)       590080    \n",
            "                                                                 \n",
            " batch_normalization_6 (Batc  (None, 56, 56, 256)      1024      \n",
            " hNormalization)                                                 \n",
            "                                                                 \n",
            " max_pooling2d_2 (MaxPooling  (None, 28, 28, 256)      0         \n",
            " 2D)                                                             \n",
            "                                                                 \n",
            " conv2d_7 (Conv2D)           (None, 28, 28, 512)       1180160   \n",
            "                                                                 \n",
            " batch_normalization_7 (Batc  (None, 28, 28, 512)      2048      \n",
            " hNormalization)                                                 \n",
            "                                                                 \n",
            " conv2d_8 (Conv2D)           (None, 28, 28, 512)       2359808   \n",
            "                                                                 \n",
            " batch_normalization_8 (Batc  (None, 28, 28, 512)      2048      \n",
            " hNormalization)                                                 \n",
            "                                                                 \n",
            " conv2d_9 (Conv2D)           (None, 28, 28, 512)       2359808   \n",
            "                                                                 \n",
            " batch_normalization_9 (Batc  (None, 28, 28, 512)      2048      \n",
            " hNormalization)                                                 \n",
            "                                                                 \n",
            " max_pooling2d_3 (MaxPooling  (None, 14, 14, 512)      0         \n",
            " 2D)                                                             \n",
            "                                                                 \n",
            " conv2d_10 (Conv2D)          (None, 14, 14, 512)       2359808   \n",
            "                                                                 \n",
            " batch_normalization_10 (Bat  (None, 14, 14, 512)      2048      \n",
            " chNormalization)                                                \n",
            "                                                                 \n",
            " conv2d_11 (Conv2D)          (None, 14, 14, 512)       2359808   \n",
            "                                                                 \n",
            " batch_normalization_11 (Bat  (None, 14, 14, 512)      2048      \n",
            " chNormalization)                                                \n",
            "                                                                 \n",
            " conv2d_12 (Conv2D)          (None, 14, 14, 512)       2359808   \n",
            "                                                                 \n",
            " batch_normalization_12 (Bat  (None, 14, 14, 512)      2048      \n",
            " chNormalization)                                                \n",
            "                                                                 \n",
            " max_pooling2d_4 (MaxPooling  (None, 7, 7, 512)        0         \n",
            " 2D)                                                             \n",
            "                                                                 \n",
            " flatten (Flatten)           (None, 25088)             0         \n",
            "                                                                 \n",
            " dense (Dense)               (None, 128)               3211392   \n",
            "                                                                 \n",
            " dense_1 (Dense)             (None, 12)                1548      \n",
            "                                                                 \n",
            "=================================================================\n",
            "Total params: 17,944,524\n",
            "Trainable params: 17,936,076\n",
            "Non-trainable params: 8,448\n",
            "_________________________________________________________________\n"
          ]
        }
      ]
    },
    {
      "cell_type": "code",
      "source": [
        "from keras.layers.preprocessing.image_preprocessing import Rescaling\n",
        "#loaging Data\n",
        "from tensorflow.keras.preprocessing.image import ImageDataGenerator\n",
        "from keras.applications.vgg16 import preprocess_input\n",
        "TrainDataGenerator = ImageDataGenerator(preprocessing_function = preprocess_input)\n",
        "\n",
        "traindata = TrainDataGenerator.flow_from_directory(\n",
        "    directory = \"/content/drive/MyDrive/Project/My_Project/Pictures/select_0827_12/Training\", \\\n",
        "    target_size = (224,224), class_mode = \"categorical\", batch_size = 32, shuffle = True\n",
        "    )\n",
        "\n",
        "valDataGenerator = ImageDataGenerator(preprocessing_function = preprocess_input)\n",
        "valdata = valDataGenerator.flow_from_directory(\n",
        "      directory = \"/content/drive/MyDrive/Project/My_Project/Pictures/select_0827_12/val\", \\\n",
        "      target_size = (224,224), class_mode = \"categorical\", batch_size = 32\n",
        ")\n",
        "\n",
        "testDataGenerator = ImageDataGenerator(preprocessing_function = preprocess_input)\n",
        "testdata = testDataGenerator.flow_from_directory(\n",
        "       directory = \"/content/drive/MyDrive/Project/My_Project/Pictures/select_0827_12/Testing\",\n",
        "       target_size = (224,224), class_mode = \"categorical\", batch_size = 32\n",
        ")\n",
        "\n",
        "\n"
      ],
      "metadata": {
        "colab": {
          "base_uri": "https://localhost:8080/"
        },
        "id": "45OqzU5n6xTo",
        "outputId": "6cc7187d-356f-4ace-c527-6320ab5bf03f"
      },
      "execution_count": 4,
      "outputs": [
        {
          "output_type": "stream",
          "name": "stdout",
          "text": [
            "Found 1087 images belonging to 12 classes.\n",
            "Found 248 images belonging to 12 classes.\n",
            "Found 217 images belonging to 12 classes.\n"
          ]
        }
      ]
    },
    {
      "cell_type": "code",
      "source": [
        "from tensorflow.keras.optimizers import Adam\n",
        "optimizers = Adam (learning_rate = 0.0002)\n",
        "VGG16_model.compile(optimizer=optimizers, loss = \"categorical_crossentropy\", metrics = [\"accuracy\"]\n",
        "                    )"
      ],
      "metadata": {
        "id": "8W5Uq4aWTDNF"
      },
      "execution_count": 5,
      "outputs": []
    },
    {
      "cell_type": "code",
      "source": [
        "from tensorflow.keras.callbacks import ModelCheckpoint, EarlyStopping\n",
        "metric = \"val_accuracy\"\n",
        "checkpoint = ModelCheckpoint(\n",
        "    filepath = \"/content/drive/MyDrive/Project/My Model/Model_0829_12_VGG16.h5\",\n",
        "    monitor = metric,\n",
        "    save_best_only = True,\n",
        "    save_weight_only = False,\n",
        "    mode = \"auto\"\n",
        "\n",
        ")\n",
        "\n",
        "earlystop = EarlyStopping(\n",
        "    monitor = \"val_accuracy\",\n",
        "    min_delta = 0,\n",
        "    patience = 5,\n",
        "    verbose = 1,\n",
        "    mode = \"auto\"\n",
        ")\n"
      ],
      "metadata": {
        "id": "2xhgKnun6xa3"
      },
      "execution_count": 6,
      "outputs": []
    },
    {
      "cell_type": "code",
      "source": [
        "history = VGG16_model.fit(traindata, epochs = 100, validation_data = valdata, callbacks = [earlystop, checkpoint])"
      ],
      "metadata": {
        "colab": {
          "base_uri": "https://localhost:8080/"
        },
        "id": "_VOjGoHs6xh5",
        "outputId": "cd5f8eea-d2b6-45d9-b0df-72ac0c5f7583"
      },
      "execution_count": 7,
      "outputs": [
        {
          "output_type": "stream",
          "name": "stdout",
          "text": [
            "Epoch 1/100\n",
            "34/34 [==============================] - 803s 23s/step - loss: 1.9826 - accuracy: 0.5115 - val_loss: 2.3026 - val_accuracy: 0.1855\n",
            "Epoch 2/100\n",
            "34/34 [==============================] - 117s 3s/step - loss: 0.2465 - accuracy: 0.9301 - val_loss: 2.1945 - val_accuracy: 0.2661\n",
            "Epoch 3/100\n",
            "34/34 [==============================] - 115s 3s/step - loss: 0.0431 - accuracy: 0.9917 - val_loss: 2.4794 - val_accuracy: 0.2419\n",
            "Epoch 4/100\n",
            "34/34 [==============================] - 120s 4s/step - loss: 0.0088 - accuracy: 1.0000 - val_loss: 2.4832 - val_accuracy: 0.2984\n",
            "Epoch 5/100\n",
            "34/34 [==============================] - 140s 4s/step - loss: 0.0036 - accuracy: 1.0000 - val_loss: 2.4876 - val_accuracy: 0.3266\n",
            "Epoch 6/100\n",
            "34/34 [==============================] - 109s 3s/step - loss: 0.0018 - accuracy: 1.0000 - val_loss: 2.1104 - val_accuracy: 0.4637\n",
            "Epoch 7/100\n",
            "34/34 [==============================] - 108s 3s/step - loss: 0.0014 - accuracy: 1.0000 - val_loss: 1.6102 - val_accuracy: 0.6008\n",
            "Epoch 8/100\n",
            "34/34 [==============================] - 104s 3s/step - loss: 9.9074e-04 - accuracy: 1.0000 - val_loss: 1.1915 - val_accuracy: 0.7137\n",
            "Epoch 9/100\n",
            "34/34 [==============================] - 106s 3s/step - loss: 8.5629e-04 - accuracy: 1.0000 - val_loss: 0.9310 - val_accuracy: 0.7540\n",
            "Epoch 10/100\n",
            "34/34 [==============================] - 106s 3s/step - loss: 7.1545e-04 - accuracy: 1.0000 - val_loss: 0.7223 - val_accuracy: 0.8185\n",
            "Epoch 11/100\n",
            "34/34 [==============================] - 106s 3s/step - loss: 5.5716e-04 - accuracy: 1.0000 - val_loss: 0.5897 - val_accuracy: 0.8629\n",
            "Epoch 12/100\n",
            "34/34 [==============================] - 107s 3s/step - loss: 4.6668e-04 - accuracy: 1.0000 - val_loss: 0.5023 - val_accuracy: 0.8871\n",
            "Epoch 13/100\n",
            "34/34 [==============================] - 107s 3s/step - loss: 5.1391e-04 - accuracy: 1.0000 - val_loss: 0.4512 - val_accuracy: 0.8992\n",
            "Epoch 14/100\n",
            "34/34 [==============================] - 105s 3s/step - loss: 4.5250e-04 - accuracy: 1.0000 - val_loss: 0.4326 - val_accuracy: 0.9032\n",
            "Epoch 15/100\n",
            "34/34 [==============================] - 105s 3s/step - loss: 3.7919e-04 - accuracy: 1.0000 - val_loss: 0.4180 - val_accuracy: 0.9032\n",
            "Epoch 16/100\n",
            "34/34 [==============================] - 102s 3s/step - loss: 3.7970e-04 - accuracy: 1.0000 - val_loss: 0.4119 - val_accuracy: 0.9032\n",
            "Epoch 17/100\n",
            "34/34 [==============================] - 105s 3s/step - loss: 3.1462e-04 - accuracy: 1.0000 - val_loss: 0.4035 - val_accuracy: 0.9032\n",
            "Epoch 18/100\n",
            "34/34 [==============================] - 103s 3s/step - loss: 2.7323e-04 - accuracy: 1.0000 - val_loss: 0.4019 - val_accuracy: 0.9032\n",
            "Epoch 19/100\n",
            "34/34 [==============================] - 111s 3s/step - loss: 2.4349e-04 - accuracy: 1.0000 - val_loss: 0.3928 - val_accuracy: 0.9073\n",
            "Epoch 20/100\n",
            "34/34 [==============================] - 105s 3s/step - loss: 2.6419e-04 - accuracy: 1.0000 - val_loss: 0.3872 - val_accuracy: 0.9073\n",
            "Epoch 21/100\n",
            "34/34 [==============================] - 105s 3s/step - loss: 2.1830e-04 - accuracy: 1.0000 - val_loss: 0.3904 - val_accuracy: 0.9032\n",
            "Epoch 22/100\n",
            "34/34 [==============================] - 102s 3s/step - loss: 2.1702e-04 - accuracy: 1.0000 - val_loss: 0.3907 - val_accuracy: 0.9032\n",
            "Epoch 23/100\n",
            "34/34 [==============================] - 106s 3s/step - loss: 1.9209e-04 - accuracy: 1.0000 - val_loss: 0.3947 - val_accuracy: 0.9073\n",
            "Epoch 24/100\n",
            "34/34 [==============================] - 104s 3s/step - loss: 1.8881e-04 - accuracy: 1.0000 - val_loss: 0.3951 - val_accuracy: 0.9032\n",
            "Epoch 24: early stopping\n"
          ]
        }
      ]
    },
    {
      "cell_type": "code",
      "source": [],
      "metadata": {
        "id": "Bbztoege6xn9"
      },
      "execution_count": 7,
      "outputs": []
    },
    {
      "cell_type": "code",
      "source": [],
      "metadata": {
        "id": "SuJHJsY06xrc"
      },
      "execution_count": 7,
      "outputs": []
    },
    {
      "cell_type": "code",
      "source": [],
      "metadata": {
        "id": "lrEseVn06xzV"
      },
      "execution_count": 7,
      "outputs": []
    },
    {
      "cell_type": "code",
      "source": [],
      "metadata": {
        "id": "UAiOBbZh6x5p"
      },
      "execution_count": 7,
      "outputs": []
    },
    {
      "cell_type": "code",
      "source": [],
      "metadata": {
        "id": "6zzyUO966yAb"
      },
      "execution_count": 7,
      "outputs": []
    },
    {
      "cell_type": "code",
      "source": [],
      "metadata": {
        "id": "1wMrR4VA6yGo"
      },
      "execution_count": 7,
      "outputs": []
    },
    {
      "cell_type": "code",
      "source": [],
      "metadata": {
        "id": "uv6fhriq6yNJ"
      },
      "execution_count": 7,
      "outputs": []
    },
    {
      "cell_type": "code",
      "source": [],
      "metadata": {
        "id": "5B9tGPaP6ySh"
      },
      "execution_count": 7,
      "outputs": []
    },
    {
      "cell_type": "code",
      "source": [],
      "metadata": {
        "id": "E-q4OKCY6yXl"
      },
      "execution_count": 7,
      "outputs": []
    },
    {
      "cell_type": "code",
      "source": [],
      "metadata": {
        "id": "1kUsLjgQ6ycV"
      },
      "execution_count": 7,
      "outputs": []
    },
    {
      "cell_type": "code",
      "source": [],
      "metadata": {
        "id": "fw78Tv8V6yhh"
      },
      "execution_count": 7,
      "outputs": []
    },
    {
      "cell_type": "code",
      "source": [],
      "metadata": {
        "id": "PZ0ueH2g6ymu"
      },
      "execution_count": 7,
      "outputs": []
    },
    {
      "cell_type": "code",
      "source": [],
      "metadata": {
        "id": "Ox3l0-ZL6yuM"
      },
      "execution_count": 7,
      "outputs": []
    },
    {
      "cell_type": "code",
      "source": [],
      "metadata": {
        "id": "cN1F7fX16yzn"
      },
      "execution_count": 7,
      "outputs": []
    },
    {
      "cell_type": "code",
      "source": [],
      "metadata": {
        "id": "74qX124R6y47"
      },
      "execution_count": 7,
      "outputs": []
    },
    {
      "cell_type": "code",
      "source": [],
      "metadata": {
        "id": "BQQRR2uN6zAx"
      },
      "execution_count": 7,
      "outputs": []
    }
  ]
}